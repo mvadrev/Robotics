{
  "nbformat": 4,
  "nbformat_minor": 0,
  "metadata": {
    "colab": {
      "name": "Lab 5 Robot velocity model - odometry.ipynb",
      "provenance": [],
      "collapsed_sections": [],
      "authorship_tag": "ABX9TyNMJt0wpCoB6wf3Ej+qOKQd",
      "include_colab_link": true
    },
    "kernelspec": {
      "name": "python3",
      "display_name": "Python 3"
    },
    "language_info": {
      "name": "python"
    }
  },
  "cells": [
    {
      "cell_type": "markdown",
      "metadata": {
        "id": "view-in-github",
        "colab_type": "text"
      },
      "source": [
        "<a href=\"https://colab.research.google.com/github/mvadrev/Robotics/blob/main/Lab_5_Robot_velocity_model_odometry.ipynb\" target=\"_parent\"><img src=\"https://colab.research.google.com/assets/colab-badge.svg\" alt=\"Open In Colab\"/></a>"
      ]
    },
    {
      "cell_type": "code",
      "execution_count": null,
      "metadata": {
        "id": "DJ-1H3_z6kjZ"
      },
      "outputs": [],
      "source": [
        "# 3/23/2022\n",
        "import numpy as np \n",
        "\n",
        "def sample_normal_distribution(b): \n",
        " ans = 0\n",
        " for i in range (12):\n",
        "   ans += np.random.uniform (-np.sqrt(b), np.sqrt(b))\n",
        " return  0.5*  ans \n",
        "  "
      ]
    },
    {
      "cell_type": "code",
      "source": [
        "def sample_triangle_distribution(b):\n",
        "  return (np.sqrt(6)/2) * (np.random.uniform(-np.sqrt(b), np.sqrt(b))) + np.random.uniform(-np.sqrt(b), np.sqrt(b))\n",
        "\n"
      ],
      "metadata": {
        "id": "30Q3M36S7Vui"
      },
      "execution_count": null,
      "outputs": []
    },
    {
      "cell_type": "code",
      "source": [
        "def sample_motion_model_velocity(u, x, dt, alpha, sample):\n",
        "  vcap = (u[0] + sample(alpha[0] * (u **2)) + alpha[1] * (u[1]))\n",
        "  wcap = (u[1] + sample( alpha[2]) + alpha[3] * (u[1] **2))\n",
        "  gcap = (alpha[4] * (u[0]**2)) + (alpha[5] * (u[1]**2))\n",
        "  xprime = x[0] - ((vcap/wcap) * np.sin(x[2])) +((vcap/wcap) * np.sin(x[2] * (wcap * dt)))\n",
        "  yprime = x[1] +  ((vcap/wcap) * np.cos(x[2])) - ((vcap/wcap) * (np.cos(x[2] + wcap * dt)))\n",
        "  thetaprime = x[2] + (wcap * dt) + (gcap * dt )\n",
        "  return np.array([xprime, yprime, thetaprime]).T"
      ],
      "metadata": {
        "id": "nvPxmEYk8773"
      },
      "execution_count": null,
      "outputs": []
    },
    {
      "cell_type": "code",
      "source": [
        "def generate_samples(u, xs, dt, alpha, sample, nb_samples):\n",
        "  xs_prime = []\n",
        "  for i in range(nb_samples):\n",
        "    i = np.random.randint(len(xs))\n",
        "    x_prime = sample_motion_model_velocity(u, x[i], dt, alpha, sample_normal_distribution)\n",
        "    xs_prime.append(x_prime)\n",
        "  return np.array(xs_prime)"
      ],
      "metadata": {
        "id": "qzCJSbl4A99u"
      },
      "execution_count": null,
      "outputs": []
    },
    {
      "cell_type": "code",
      "source": [
        "x = np.array([[0,0,0]])\n",
        "u = np.array([1, 5*np.pi/180])\n",
        "print(\"u is\", u)\n",
        "dt = 20\n",
        "\n",
        "#  Figure a\n",
        "alpha = np.array([4, 4, 2, 2, 0.1, 0.1]) * 1e-4\n",
        "\n",
        "#  Figure b\n",
        "alpha2 = np.array([50, 50, 0.1, 0.1, 0.1, 0.1]) * 1e-4\n",
        "\n",
        "#  Figure c\n",
        "alpha3 = np.array([1, 1, 8, 8, 0.1, 0.1]) * 1e-4"
      ],
      "metadata": {
        "colab": {
          "base_uri": "https://localhost:8080/"
        },
        "id": "V1ohTE0Z_hpT",
        "outputId": "746531fb-cca4-42fb-e643-5bee30773930"
      },
      "execution_count": null,
      "outputs": [
        {
          "output_type": "stream",
          "name": "stdout",
          "text": [
            "u is [1.         0.08726646]\n"
          ]
        }
      ]
    },
    {
      "cell_type": "code",
      "source": [
        "# alpha 1\n",
        "alpha_1_1 = sample_motion_model_velocity(u, x, dt, alpha, sample_normal_distribution)\n",
        "alpha_1 = sample_motion_model_velocity(u, x, dt, alpha, sample_triangle_distribution)\n",
        "\n",
        "# alpha 2 \n",
        "alpha_2_2 = sample_motion_model_velocity(u, x, dt, alpha2, sample_normal_distribution)\n",
        "alpha_2 = sample_motion_model_velocity(u, x, dt, alpha2, sample_triangle_distribution)\n",
        "\n",
        "# alpha 3 \n",
        "alpha_3_3 = sample_motion_model_velocity(u, x, dt, alpha3, sample_normal_distribution)\n",
        "alpha_3 = sample_motion_model_velocity(u, x, dt, alpha3, sample_triangle_distribution)\n"
      ],
      "metadata": {
        "colab": {
          "base_uri": "https://localhost:8080/"
        },
        "id": "pjVx8FheBOLv",
        "outputId": "724acced-63f9-4eb9-90de-26180676f8f4"
      },
      "execution_count": null,
      "outputs": [
        {
          "output_type": "stream",
          "name": "stderr",
          "text": [
            "/usr/local/lib/python3.7/dist-packages/ipykernel_launcher.py:8: VisibleDeprecationWarning: Creating an ndarray from ragged nested sequences (which is a list-or-tuple of lists-or-tuples-or ndarrays with different lengths or shapes) is deprecated. If you meant to do this, you must specify 'dtype=object' when creating the ndarray.\n",
            "  \n"
          ]
        }
      ]
    },
    {
      "cell_type": "code",
      "source": [
        "alpha"
      ],
      "metadata": {
        "colab": {
          "base_uri": "https://localhost:8080/"
        },
        "id": "q-4DuK87FYrl",
        "outputId": "c94b0b6a-4349-4d88-8de9-e20273060ffa"
      },
      "execution_count": null,
      "outputs": [
        {
          "output_type": "execute_result",
          "data": {
            "text/plain": [
              "array([4.e-04, 4.e-04, 2.e-04, 2.e-04, 1.e-05, 1.e-05])"
            ]
          },
          "metadata": {},
          "execution_count": 8
        }
      ]
    },
    {
      "cell_type": "code",
      "source": [
        "generate_samples(u, x, dt, alpha, sample_normal_distribution, 500)"
      ],
      "metadata": {
        "colab": {
          "base_uri": "https://localhost:8080/"
        },
        "id": "tz6pR5aTGmm8",
        "outputId": "8da3425b-cef2-4818-f19c-a3545e3935a8"
      },
      "execution_count": null,
      "outputs": [
        {
          "output_type": "stream",
          "name": "stderr",
          "text": [
            "/usr/local/lib/python3.7/dist-packages/ipykernel_launcher.py:8: VisibleDeprecationWarning: Creating an ndarray from ragged nested sequences (which is a list-or-tuple of lists-or-tuples-or ndarrays with different lengths or shapes) is deprecated. If you meant to do this, you must specify 'dtype=object' when creating the ndarray.\n",
            "  \n"
          ]
        },
        {
          "output_type": "execute_result",
          "data": {
            "text/plain": [
              "array([[array([0., 0.]), array([11.01752611, 11.07809611]),\n",
              "        1.2662429649228402],\n",
              "       [array([0., 0.]), array([11.17130726, 11.19620571]),\n",
              "        1.2861048623608522],\n",
              "       [array([0., 0.]), array([13.8904929 , 13.79392293]),\n",
              "        1.8474579849648032],\n",
              "       ...,\n",
              "       [array([0., 0.]), array([14.06754387, 14.22440815]),\n",
              "        2.0274198961231042],\n",
              "       [array([0., 0.]), array([14.12566595, 14.41293015]),\n",
              "        2.2230276079867806],\n",
              "       [array([0., 0.]), array([13.8007999 , 14.41100881]),\n",
              "        2.21169386151373]], dtype=object)"
            ]
          },
          "metadata": {},
          "execution_count": 17
        }
      ]
    }
  ]
}