{
  "nbformat": 4,
  "nbformat_minor": 0,
  "metadata": {
    "colab": {
      "name": "Robotics_Sensor_Models.ipynb",
      "provenance": [],
      "collapsed_sections": [],
      "include_colab_link": true
    },
    "kernelspec": {
      "name": "python3",
      "display_name": "Python 3"
    },
    "language_info": {
      "name": "python"
    }
  },
  "cells": [
    {
      "cell_type": "markdown",
      "metadata": {
        "id": "view-in-github",
        "colab_type": "text"
      },
      "source": [
        "<a href=\"https://colab.research.google.com/github/mvadrev/Robotics/blob/main/Robotics_Sensor_Models.ipynb\" target=\"_parent\"><img src=\"https://colab.research.google.com/assets/colab-badge.svg\" alt=\"Open In Colab\"/></a>"
      ]
    },
    {
      "cell_type": "code",
      "execution_count": null,
      "metadata": {
        "id": "Zq4plS1QID4v"
      },
      "outputs": [],
      "source": [
        "import numpy as np\n",
        "from scipy.stats import norm\n",
        "def p_hit(z_meas, z_true, sigma, z_max):\n",
        "  cdf_max = norm.cdf(z_max, z_true, sigma)\n",
        "  cdf_start = norm.cdf(0, z_true, sigma)\n",
        "  cdf_final = cdf_max - cdf_start\n",
        "  return cdf_final * norm.pdf(z_meas, z_true, sigma)\n",
        "\n",
        "def p_short(z_meas, z_true, l_short):\n",
        "  expo = np.exp(-l_short * z_meas)\n",
        "  norm = 1 / (1- np.exp(-l_short * z_true))\n",
        "  return norm * l_short * expo\n",
        "\n",
        "def p_max(z_meas, z_max):\n",
        "  if (z_meas == z_max):\n",
        "    P_max = 1\n",
        "  else:\n",
        "    P_max = 0\n",
        "  return P_max\n",
        "\n",
        "def prob(z_meas, z_true, z_max, z_weight, sigma, l_short):\n",
        "    hit = z_weight[0] * p_hit(z_meas, z_true, sigma, z_max)\n",
        "    short = z_weight[1] * p_short(z_meas, z_true, l_short)\n",
        "    max = z_weight[2] * p_max(z_meas, z_max)\n",
        "    rand = z_weight[3] * (1 / z_max)\n",
        "    return hit + short + max + rand "
      ]
    },
    {
      "cell_type": "code",
      "source": [
        "import matplotlib.pyplot as plt\n",
        "\n",
        "z_meas = np.linspace(0, 13, 1000)\n",
        "z_true = 10\n",
        "z_max = 13\n",
        "sigma = 0.5\n",
        "l_short = 0.2\n",
        "\n",
        "z_weights = [0.8, 0.1, 0.05, 0.05]\n",
        "\n",
        "probs = []\n",
        "for z in z_meas:\n",
        "  probs.append(prob(z, z_true, z_max, z_weights, sigma, l_short))\n",
        "\n",
        "fig, ax = plt.subplots(1, 1)\n",
        "ax.plot(z_meas, probs,'b-')\n",
        "plt.show()\n",
        "\n",
        "\n",
        "cdf = np.cumsum(probs)*(z_meas[1]-z_meas[0])\n",
        "\n",
        "fig, ax = plt.subplots(1, 1)\n",
        "ax.plot(z_meas, cdf,'b-')\n",
        "plt.show()"
      ],
      "metadata": {
        "colab": {
          "base_uri": "https://localhost:8080/",
          "height": 516
        },
        "id": "pruYAgoyccCM",
        "outputId": "e1f3461c-7c2b-40b4-dda2-d91d9c6ef609"
      },
      "execution_count": null,
      "outputs": [
        {
          "output_type": "display_data",
          "data": {
            "text/plain": [
              "<Figure size 432x288 with 1 Axes>"
            ],
            "image/png": "[encoded data removed]"
          },
          "metadata": {
            "needs_background": "light"
          }
        },
        {
          "output_type": "display_data",
          "data": {
            "text/plain": [
              "<Figure size 432x288 with 1 Axes>"
            ],
            "image/png": "[encoded data removed]"
          },
          "metadata": {
            "needs_background": "light"
          }
        }
      ]
    }
  ]
}