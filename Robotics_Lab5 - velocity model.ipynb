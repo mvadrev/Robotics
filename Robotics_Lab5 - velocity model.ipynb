{
  "nbformat": 4,
  "nbformat_minor": 0,
  "metadata": {
    "colab": {
      "name": "Robotics_Lab5.ipynb",
      "provenance": [],
      "include_colab_link": true
    },
    "kernelspec": {
      "name": "python3",
      "display_name": "Python 3"
    },
    "language_info": {
      "name": "python"
    }
  },
  "cells": [
    {
      "cell_type": "markdown",
      "metadata": {
        "id": "view-in-github",
        "colab_type": "text"
      },
      "source": [
        "<a href=\"https://colab.research.google.com/github/mvadrev/Robotics/blob/main/Robotics_Lab5%20-%20velocity%20model.ipynb\" target=\"_parent\"><img src=\"https://colab.research.google.com/assets/colab-badge.svg\" alt=\"Open In Colab\"/></a>"
      ]
    },
    {
      "cell_type": "code",
      "execution_count": null,
      "metadata": {
        "id": "H8WCde6g6tjT"
      },
      "outputs": [],
      "source": [
        "import numpy as np\n",
        "def sample_normal_distribution(b):\n",
        "  res = 0\n",
        "  for i in range(12): \n",
        "    res += np.random.uniform(-np.sqrt(b), np.sqrt(b))\n",
        "  return 0.5 * res "
      ]
    },
    {
      "cell_type": "code",
      "source": [
        "def sample_triangular_distribution(b):\n",
        "  return  np.sqrt(6) * 0.5 * [np.random.uniform(-np.sqrt(b), np.sqrt(b)) + np.random.uniform(-np.sqrt(b), np.sqrt(b))]"
      ],
      "metadata": {
        "id": "O9MVuySV63ox"
      },
      "execution_count": null,
      "outputs": []
    },
    {
      "cell_type": "code",
      "source": [
        "def sample_motion_model_velocity(u, x, dt, alpha, sample):\n",
        "  v = u[0] + sample(alpha[0] * u[0]**2 + alpha[1] * u[1]**2)\n",
        "  w = u[1] + sample(alpha[2] * u[0]**2 + alpha[3] * u[1]**2)\n",
        "  delta = sample(alpha[4] * u[0]**2 + alpha[5] * u[1]**2)\n",
        "  x_ = x[0] - (v/w) * np.sin(x[2]) + (v/w) * np.sin(x[2] + w * dt)\n",
        "  y_ = x[1] + (v/w) * np.cos(x[2]) - (v/w) * np.cos(x[2] + w * dt)\n",
        "  theta_ = x[2] + w * dt + delta * dt\n",
        "  return np.array([x_, y_, theta_])"
      ],
      "metadata": {
        "id": "jQMY_mSD63rI"
      },
      "execution_count": null,
      "outputs": []
    },
    {
      "cell_type": "code",
      "source": [
        "x = np.array([0, 0, 0])\n",
        "u = np.array([1, 5*np.pi/180])\n",
        "dt = 20\n",
        "\n",
        "#  Figure a\n",
        "alpha_a = np.array([4, 4, 2, 2, 0.1, 0.1]) * 1e-4\n",
        "x_prime_a = sample_motion_model_velocity(u, x, dt, alpha_a, sample_normal_distribution)\n",
        "x_prime_a2 = sample_motion_model_velocity(u, x, dt, alpha_a, sample_triangular_distribution)\n",
        "\n",
        "#  Figure b\n",
        "alpha_b = np.array([50, 50, 0.1, 0.1, 0.1, 0.1]) * 1e-4\n",
        "x_prime_b = sample_motion_model_velocity(u, x, dt, alpha_b, sample_normal_distribution)\n",
        "x_prime_b2 = sample_motion_model_velocity(u, x, dt, alpha_b, sample_triangular_distribution)\n",
        "\n",
        "#  Figure c\n",
        "alpha_c = np.array([1, 1, 8, 8, 0.1, 0.1]) * 1e-4\n",
        "x_prime_c = sample_motion_model_velocity(u, x, dt, alpha_c, sample_normal_distribution)\n",
        "x_prime_c2 = sample_motion_model_velocity(u, x, dt, alpha_c, sample_triangular_distribution)"
      ],
      "metadata": {
        "id": "KaAQCsaO63tk"
      },
      "execution_count": null,
      "outputs": []
    },
    {
      "cell_type": "code",
      "source": [
        "def generate_samples(u , xs ,dt , alpha, sample, nb_samples):\n",
        "  xs_prime = []\n",
        "  for i in range(nb_samples):\n",
        "    i = np.random.randint(len(xs))\n",
        "    x_prime = sample_motion_model_velocity(u, x[i], dt, alpha, sample_normal_distribution)\n",
        "    xs_prime.append(x_prime)\n",
        "  return np.array(xs_prime)"
      ],
      "metadata": {
        "id": "JoxvsQKi_XQ-"
      },
      "execution_count": null,
      "outputs": []
    },
    {
      "cell_type": "code",
      "source": [
        "import matplotlib.pyplot as plt\n",
        "x = np.array([[0, 0, 0]])\n",
        "u = np.array([1, 5*np.pi/180])\n",
        "dt = 20\n",
        "alpha_a = np.array([4, 4, 2, 2, 0.1, 0.1]) * 1e-4                            \n",
        "xs_a = generate_samples(u, x, dt, alpha_a, sample_normal_distribution, 500)\n",
        "plt.scatter(xs_a[: , [0]], xs_a[: , [1]])"
      ],
      "metadata": {
        "colab": {
          "base_uri": "https://localhost:8080/",
          "height": 282
        },
        "id": "gqpOjjEu8C2k",
        "outputId": "97de5b4d-c960-4562-fdc2-b0985b199db0"
      },
      "execution_count": null,
      "outputs": [
        {
          "output_type": "execute_result",
          "data": {
            "text/plain": [
              "<matplotlib.collections.PathCollection at 0x7fe4bfa1e350>"
            ]
          },
          "metadata": {},
          "execution_count": 6
        },
        {
          "output_type": "display_data",
          "data": {
            "text/plain": [
              "<Figure size 432x288 with 1 Axes>"
            ],
            "image/png": "[encoded data removed]"
          },
          "metadata": {
            "needs_background": "light"
          }
        }
      ]
    },
    {
      "cell_type": "code",
      "source": [
        "xs_b = generate_samples(u, x, dt, alpha_b, sample_normal_distribution, 500)\n",
        "plt.scatter(xs_b[: , [0]], xs_b[: , [1]])"
      ],
      "metadata": {
        "colab": {
          "base_uri": "https://localhost:8080/",
          "height": 282
        },
        "id": "Q0G2TgZ8A_sy",
        "outputId": "4774e331-f22b-4a56-9b6e-670964ef2b9a"
      },
      "execution_count": null,
      "outputs": [
        {
          "output_type": "execute_result",
          "data": {
            "text/plain": [
              "<matplotlib.collections.PathCollection at 0x7fe4bf511610>"
            ]
          },
          "metadata": {},
          "execution_count": 7
        },
        {
          "output_type": "display_data",
          "data": {
            "text/plain": [
              "<Figure size 432x288 with 1 Axes>"
            ],
            "image/png": "[encoded data removed]"
          },
          "metadata": {
            "needs_background": "light"
          }
        }
      ]
    },
    {
      "cell_type": "code",
      "source": [
        "xs_c = generate_samples(u, x, dt, alpha_c, sample_normal_distribution, 500)\n",
        "plt.scatter(xs_c[: , [0]], xs_c[: , [1]])"
      ],
      "metadata": {
        "colab": {
          "base_uri": "https://localhost:8080/",
          "height": 282
        },
        "id": "W5uAyDNFA_yq",
        "outputId": "7f1db6d8-91c0-44bb-b907-b7dcbbe7d5e7"
      },
      "execution_count": null,
      "outputs": [
        {
          "output_type": "execute_result",
          "data": {
            "text/plain": [
              "<matplotlib.collections.PathCollection at 0x7fe4bf4f9f10>"
            ]
          },
          "metadata": {},
          "execution_count": 8
        },
        {
          "output_type": "display_data",
          "data": {
            "text/plain": [
              "<Figure size 432x288 with 1 Axes>"
            ],
            "image/png": "[encoded data removed]"
          },
          "metadata": {
            "needs_background": "light"
          }
        }
      ]
    }
  ]
}