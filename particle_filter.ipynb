{
  "nbformat": 4,
  "nbformat_minor": 0,
  "metadata": {
    "colab": {
      "name": "Prob practice.ipynb",
      "provenance": [],
      "collapsed_sections": [],
      "authorship_tag": "ABX9TyNPFCTIWTVtTUSYqBf0Qpgq",
      "include_colab_link": true
    },
    "kernelspec": {
      "name": "python3",
      "display_name": "Python 3"
    },
    "language_info": {
      "name": "python"
    }
  },
  "cells": [
    {
      "cell_type": "markdown",
      "metadata": {
        "id": "view-in-github",
        "colab_type": "text"
      },
      "source": [
        "<a href=\"https://colab.research.google.com/github/mvadrev/Robotics/blob/main/particle_filter.ipynb\" target=\"_parent\"><img src=\"https://colab.research.google.com/assets/colab-badge.svg\" alt=\"Open In Colab\"/></a>"
      ]
    },
    {
      "cell_type": "code",
      "source": [
        "import numpy as np\n",
        "green_pose_0 = [1.0, 1.5, 270]\n",
        "pink_pose_0 = [1.0, 3.5, 90]\n",
        "blue_pose_0 =  [3.5, 4.0, 0]\n",
        "purple_pose_0 = [4.0, 0.5, 180]\n",
        "\n",
        "# zt = [zt1, zt2, zt3] :: [left, front, right]\n",
        "# For example, if the robot moves 1 unit forward, the purple\n",
        "# particle will move from [4.0, 0.5, 180] to [3.0, 0.5, 180]."
      ],
      "metadata": {
        "id": "EX6DBc14K_X-"
      },
      "execution_count": 86,
      "outputs": []
    },
    {
      "cell_type": "code",
      "source": [
        "# Move robot and compute new pose \n",
        "\n",
        "#Odometry mode; [deltaRot1, deltaTrans, deltaRot2] for x and xBar \n",
        "\n",
        "#t1 #Robot movement (ut): move forward 1.0 unit #Robot sensor readings (zt): [1.5, 0.5, 3.5]\n",
        "\n",
        "green_pose_1 = [1, 0.5, 270]\n",
        "pink_pose_1 = [1, 4.5, 90]\n",
        "blue_pose_1 = [4.5, 4, 0]\n",
        "purple_pose_1 = [3, 0.5, 180]\n",
        "\n",
        "#t2 #Robot movement (ut): turn 90 clockwise #Robot sensor readings (zt): [0.5, 3.5, 4.5]\n",
        "\n",
        "green_pose_2 = [1, 0.5, 360]\n",
        "pink_pose_2 = [1, 4.5, 180]\n",
        "blue_pose_2 = [4.5, 4, 90]\n",
        "purple_pose_2 = [3, 0.5, 270]\n",
        "\n",
        "\n",
        "#t3 #Robot movement (ut): move forward 1.5 unit #Robot sensor readings (zt): [0.5, 2.0, 1.5\n",
        "\n",
        "green_pose_3 = [1, -1, 360]\n",
        "pink_pose_3 = [1, 6, 180]\n",
        "blue_pose_3 = [5.5, 4, 90 ]\n",
        "purple_pose_3 = [1.5, 0.5, 270]"
      ],
      "metadata": {
        "id": "-h5clhU9N7aH"
      },
      "execution_count": 62,
      "outputs": []
    },
    {
      "cell_type": "code",
      "source": [
        "# compute weights \n",
        "\n",
        "def computeWeights(zt, zkt):\n",
        "  w = []\n",
        "  for i in range(3):\n",
        "    calc = (zt[i] - zkt[i])\n",
        "    w.append(calc)\n",
        "    # print(w)\n",
        "  return 1/sum(w)"
      ],
      "metadata": {
        "id": "WZsPTWhoN5ca"
      },
      "execution_count": 77,
      "outputs": []
    },
    {
      "cell_type": "code",
      "source": [
        "p_t1 = [1.5, 0.5, 3.5]\n",
        "p_t2 =  [0.5, 3.5, 4.5]\n",
        "p_t3 =[0.5, 2.0, 1.5]\n",
        "\n",
        "# Weights at time step 1\n",
        "green_weight_1 = computeWeights(p_t1, green_pose_1)\n",
        "blue_weight_1 = computeWeights(p_t1, blue_pose_1)\n",
        "pink_weight_1 = computeWeights(p_t1, pink_pose_1)\n",
        "purple_weight_1 = computeWeights(p_t1, purple_pose_1)\n",
        "# Weights at time step 2\n",
        "green_weight_2 = computeWeights(p_t2, green_pose_2)\n",
        "blue_weight_2 = computeWeights(p_t2, blue_pose_2)\n",
        "pink_weight_2 = computeWeights(p_t2, pink_pose_2)\n",
        "purple_weight_2 = computeWeights(p_t2, purple_pose_2)\n",
        "# Weights at time step 3\n",
        "green_weight_3 = computeWeights(p_t3, green_pose_3)\n",
        "blue_weight_3 = computeWeights(p_t3, blue_pose_3)\n",
        "pink_weight_3 = computeWeights(p_t3, pink_pose_3)\n",
        "purple_weight_3 = computeWeights(p_t3, purple_pose_3)"
      ],
      "metadata": {
        "id": "Oz4fs9QKY4np"
      },
      "execution_count": 85,
      "outputs": []
    },
    {
      "cell_type": "code",
      "source": [
        "green_weight_1, blue_weight_1, pink_weight_1, purple_weight_1"
      ],
      "metadata": {
        "colab": {
          "base_uri": "https://localhost:8080/"
        },
        "id": "XOHrtykTZ4SB",
        "outputId": "e616af61-cb21-4b6f-d23d-71fc76884acb"
      },
      "execution_count": 66,
      "outputs": [
        {
          "output_type": "execute_result",
          "data": {
            "text/plain": [
              "(-0.0037593984962406013,\n",
              " -0.3333333333333333,\n",
              " -0.011111111111111112,\n",
              " -0.0056179775280898875)"
            ]
          },
          "metadata": {},
          "execution_count": 66
        }
      ]
    },
    {
      "cell_type": "code",
      "source": [
        "np.sum([green_weight_1, blue_weight_1, pink_weight_1, green_weight_1])"
      ],
      "metadata": {
        "colab": {
          "base_uri": "https://localhost:8080/"
        },
        "id": "2b02k54uaJMx",
        "outputId": "38caa0ac-62a9-4c13-87a3-09be8ed11a68"
      },
      "execution_count": 67,
      "outputs": [
        {
          "output_type": "execute_result",
          "data": {
            "text/plain": [
              "-0.3519632414369256"
            ]
          },
          "metadata": {},
          "execution_count": 67
        }
      ]
    },
    {
      "cell_type": "code",
      "source": [
        "from scipy.stats import norm\n",
        "\n",
        "# Normalization of wiehgts at timestep 1\n",
        "gn_1 = green_weight_1/np.sum([green_weight_1, blue_weight_1, pink_weight_1, green_weight_1])\n",
        "bn_1 = blue_weight_1/np.sum([green_weight_1, blue_weight_1, pink_weight_1, green_weight_1])\n",
        "pn_1 = pink_weight_1/np.sum([green_weight_1, blue_weight_1, pink_weight_1, green_weight_1])\n",
        "purn_1 = purple_weight_1/np.sum([green_weight_1, blue_weight_1, pink_weight_1, green_weight_1])\n",
        "# Normalization of wiehgts at timestep 2\n",
        "gn_2 = green_weight_2/np.sum([green_weight_2, blue_weight_2, pink_weight_2, green_weight_2])\n",
        "bn_2 = blue_weight_2/np.sum([green_weight_2, blue_weight_2, pink_weight_2, green_weight_2])\n",
        "pn_2 = pink_weight_2/np.sum([green_weight_2, blue_weight_2, pink_weight_2, green_weight_2])\n",
        "purn_2 = purple_weight_2/np.sum([green_weight_2, blue_weight_2, pink_weight_2, green_weight_2])\n",
        "# Normalization of wiehgts at timestep 3\n",
        "gn_3 = green_weight_3/np.sum([green_weight_3, blue_weight_3, pink_weight_3, green_weight_3])\n",
        "bn_3 = blue_weight_3/np.sum([green_weight_3, blue_weight_3, pink_weight_3, green_weight_3])\n",
        "pn_3 = pink_weight_3/np.sum([green_weight_3, blue_weight_3, pink_weight_3, green_weight_3])\n",
        "purn_3 = purple_weight_3/np.sum([green_weight_3, blue_weight_3, pink_weight_3, green_weight_3])"
      ],
      "metadata": {
        "id": "2vcOArUJa0e2"
      },
      "execution_count": 87,
      "outputs": []
    },
    {
      "cell_type": "code",
      "source": [
        "# Summing to chek if probabilities add to 1 \n",
        "sum_st_1 = np.sum([gn_1, bn_1, pn_1, purn_1])\n",
        "sum_st_2 = np.sum([gn_2, bn_2, pn_2, purn_2])\n",
        "sum_st_3 = np.sum([gn_2, bn_2, pn_2, purn_2])"
      ],
      "metadata": {
        "id": "avI5R7VCeME2"
      },
      "execution_count": 73,
      "outputs": []
    },
    {
      "cell_type": "code",
      "source": [
        "sum_st_1, sum_st_2, sum_st_3"
      ],
      "metadata": {
        "colab": {
          "base_uri": "https://localhost:8080/"
        },
        "id": "nSV-mqLkjBXN",
        "outputId": "df7cdc8b-e5fd-4707-a061-3960f3356736"
      },
      "execution_count": 74,
      "outputs": [
        {
          "output_type": "execute_result",
          "data": {
            "text/plain": [
              "(1.0052806055094319, 1.0419468742944782, 1.0419468742944782)"
            ]
          },
          "metadata": {},
          "execution_count": 74
        }
      ]
    },
    {
      "cell_type": "code",
      "source": [
        "print(green_weight_1, blue_weight_1, pink_weight_1, purple_weight_1)"
      ],
      "metadata": {
        "colab": {
          "base_uri": "https://localhost:8080/"
        },
        "id": "DUMwoDCBjo1e",
        "outputId": "147f5a44-cbfc-40c0-c4d0-dbf08c6b636b"
      },
      "execution_count": 79,
      "outputs": [
        {
          "output_type": "stream",
          "name": "stdout",
          "text": [
            "-0.0037593984962406013 -0.3333333333333333 -0.011111111111111112 -0.0056179775280898875\n"
          ]
        }
      ]
    },
    {
      "cell_type": "code",
      "source": [
        "np.max([green_weight_1, blue_weight_1, pink_weight_1, purple_weight_1])"
      ],
      "metadata": {
        "colab": {
          "base_uri": "https://localhost:8080/"
        },
        "id": "I9-qAfOljU-y",
        "outputId": "45030d90-cd3b-4c66-982f-c4a4ef28af05"
      },
      "execution_count": 80,
      "outputs": [
        {
          "output_type": "execute_result",
          "data": {
            "text/plain": [
              "-0.0037593984962406013"
            ]
          },
          "metadata": {},
          "execution_count": 80
        }
      ]
    },
    {
      "cell_type": "code",
      "source": [
        "print(green_weight_2, blue_weight_2, pink_weight_2, purple_weight_2)"
      ],
      "metadata": {
        "colab": {
          "base_uri": "https://localhost:8080/"
        },
        "id": "ritR6oQckWT0",
        "outputId": "4a1832fc-6e60-400a-e335-e0ee5133e4d1"
      },
      "execution_count": 82,
      "outputs": [
        {
          "output_type": "stream",
          "name": "stdout",
          "text": [
            "-0.0028328611898017 -0.011111111111111112 -0.005649717514124294 -0.0037735849056603774\n"
          ]
        }
      ]
    },
    {
      "cell_type": "code",
      "source": [
        "np.max([green_weight_2, blue_weight_2, pink_weight_2, purple_weight_2])"
      ],
      "metadata": {
        "colab": {
          "base_uri": "https://localhost:8080/"
        },
        "id": "1-2RpR4BkEPS",
        "outputId": "b6bb5e4f-1fc9-4bbf-f61b-b175bfcda2a5"
      },
      "execution_count": 81,
      "outputs": [
        {
          "output_type": "execute_result",
          "data": {
            "text/plain": [
              "-0.0028328611898017"
            ]
          },
          "metadata": {},
          "execution_count": 81
        }
      ]
    },
    {
      "cell_type": "code",
      "source": [
        "print(green_weight_3, blue_weight_3, pink_weight_3, purple_weight_3)"
      ],
      "metadata": {
        "colab": {
          "base_uri": "https://localhost:8080/"
        },
        "id": "LC1U3WzQkfaW",
        "outputId": "1dc32f3d-12a5-4a99-984e-1d61f1c760b2"
      },
      "execution_count": 84,
      "outputs": [
        {
          "output_type": "stream",
          "name": "stdout",
          "text": [
            "-0.0028089887640449437 -0.010471204188481676 -0.00546448087431694 -0.0037313432835820895\n"
          ]
        }
      ]
    },
    {
      "cell_type": "code",
      "source": [
        "np.max([green_weight_3, blue_weight_3, pink_weight_3, purple_weight_3])"
      ],
      "metadata": {
        "colab": {
          "base_uri": "https://localhost:8080/"
        },
        "id": "E2M7a4xtkmgX",
        "outputId": "c7f13dc9-7b59-43bf-eb08-cf5c12c88c31"
      },
      "execution_count": 83,
      "outputs": [
        {
          "output_type": "execute_result",
          "data": {
            "text/plain": [
              "-0.0028089887640449437"
            ]
          },
          "metadata": {},
          "execution_count": 83
        }
      ]
    }
  ]
}